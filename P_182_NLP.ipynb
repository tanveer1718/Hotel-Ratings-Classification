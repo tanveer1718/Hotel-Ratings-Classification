{
 "cells": [
  {
   "cell_type": "code",
   "execution_count": null,
   "id": "abd503ac",
   "metadata": {},
   "outputs": [],
   "source": [
    "import numpy as np\n",
    "import pandas as pd\n",
    "import matplotlib.pyplot as plt\n",
    "import seaborn as sns\n",
    "import string\n",
    "import spacy\n",
    "\n",
    "from wordcloud import WordCloud, STOPWORDS\n",
    "%matplotlib inline"
   ]
  },
  {
   "cell_type": "code",
   "execution_count": null,
   "id": "1cbd590d",
   "metadata": {
    "scrolled": false
   },
   "outputs": [],
   "source": [
    "data=pd.read_excel(\"hotel_reviews.xlsx\")\n",
    "data"
   ]
  },
  {
   "cell_type": "code",
   "execution_count": null,
   "id": "d92bed74",
   "metadata": {},
   "outputs": [],
   "source": [
    "data[\"Review\"][0]"
   ]
  },
  {
   "cell_type": "code",
   "execution_count": null,
   "id": "dc8d4689",
   "metadata": {
    "scrolled": true
   },
   "outputs": [],
   "source": [
    "data.info()"
   ]
  },
  {
   "cell_type": "markdown",
   "id": "c5c0dd0f",
   "metadata": {},
   "source": [
    "Every value in Rating column is float"
   ]
  },
  {
   "cell_type": "code",
   "execution_count": null,
   "id": "27142f48",
   "metadata": {},
   "outputs": [],
   "source": [
    "sns.countplot(x='Rating',data= data)\n",
    "plt.title(\"Distribution of Rating\")"
   ]
  },
  {
   "cell_type": "code",
   "execution_count": null,
   "id": "a5560f70",
   "metadata": {},
   "outputs": [],
   "source": [
    "data[\"Rating\"].value_counts()"
   ]
  },
  {
   "cell_type": "code",
   "execution_count": null,
   "id": "a8b8ec4a",
   "metadata": {
    "scrolled": false
   },
   "outputs": [],
   "source": [
    "(9054+6039)/(9054+6039+2184+1793+1421)"
   ]
  },
  {
   "cell_type": "markdown",
   "id": "3119bfd3",
   "metadata": {},
   "source": [
    "73% of ratings are good"
   ]
  },
  {
   "cell_type": "code",
   "execution_count": null,
   "id": "ea8b94fd",
   "metadata": {
    "scrolled": true
   },
   "outputs": [],
   "source": [
    "Reviews = data.Review.values\n",
    "Reviews"
   ]
  },
  {
   "cell_type": "code",
   "execution_count": null,
   "id": "c1464ed0",
   "metadata": {},
   "outputs": [],
   "source": [
    "len(Reviews)"
   ]
  },
  {
   "cell_type": "code",
   "execution_count": null,
   "id": "1d2cc644",
   "metadata": {
    "scrolled": true
   },
   "outputs": [],
   "source": [
    "Reviews_text=' '.join(Reviews)\n",
    "Reviews_text"
   ]
  },
  {
   "cell_type": "markdown",
   "id": "4e01969e",
   "metadata": {},
   "source": [
    "Tockenization"
   ]
  },
  {
   "cell_type": "code",
   "execution_count": null,
   "id": "20651aa8",
   "metadata": {},
   "outputs": [],
   "source": [
    "from nltk.tokenize import TweetTokenizer\n",
    "tknzr = TweetTokenizer(strip_handles=True)\n",
    "Reviews_tokens=tknzr.tokenize(Reviews_text)"
   ]
  },
  {
   "cell_type": "code",
   "execution_count": null,
   "id": "a63fc9b9",
   "metadata": {},
   "outputs": [],
   "source": [
    "len(Reviews_tokens)"
   ]
  },
  {
   "cell_type": "code",
   "execution_count": null,
   "id": "3008c00f",
   "metadata": {
    "scrolled": true
   },
   "outputs": [],
   "source": [
    "Reviews_tokens"
   ]
  },
  {
   "cell_type": "code",
   "execution_count": null,
   "id": "084bad00",
   "metadata": {},
   "outputs": [],
   "source": [
    "Reviews_tokens_text=' '.join(Reviews_tokens)\n",
    "Reviews_tokens_text"
   ]
  },
  {
   "cell_type": "markdown",
   "id": "ddaaa721",
   "metadata": {},
   "source": [
    "# Remove Punctuations"
   ]
  },
  {
   "cell_type": "code",
   "execution_count": null,
   "id": "4757d819",
   "metadata": {},
   "outputs": [],
   "source": [
    "no_punc_Reviews_tokens_text= Reviews_tokens_text.translate(str.maketrans('','',string.punctuation))\n",
    "no_punc_Reviews_tokens_text"
   ]
  },
  {
   "cell_type": "markdown",
   "id": "04dfe365",
   "metadata": {},
   "source": [
    "# Tokenization"
   ]
  },
  {
   "cell_type": "code",
   "execution_count": null,
   "id": "7e75d3c6",
   "metadata": {},
   "outputs": [],
   "source": [
    "from nltk.tokenize import word_tokenize\n",
    "text_tokens=word_tokenize(no_punc_Reviews_tokens_text)\n",
    "text_tokens"
   ]
  },
  {
   "cell_type": "code",
   "execution_count": null,
   "id": "e2f591f2",
   "metadata": {},
   "outputs": [],
   "source": [
    "len(text_tokens)"
   ]
  },
  {
   "cell_type": "code",
   "execution_count": null,
   "id": "3c12ac33",
   "metadata": {},
   "outputs": [],
   "source": [
    "from nltk.corpus import stopwords\n",
    "stop_words=stopwords.words('english')"
   ]
  },
  {
   "cell_type": "code",
   "execution_count": null,
   "id": "892f1cf5",
   "metadata": {},
   "outputs": [],
   "source": [
    "print(stop_words)"
   ]
  },
  {
   "cell_type": "code",
   "execution_count": null,
   "id": "49e87844",
   "metadata": {},
   "outputs": [],
   "source": [
    "no_stop_tokens=[word for word in text_tokens if not word in stop_words]\n",
    "no_stop_tokens"
   ]
  },
  {
   "cell_type": "markdown",
   "id": "24a47eb8",
   "metadata": {},
   "source": [
    "# Normalizing"
   ]
  },
  {
   "cell_type": "code",
   "execution_count": null,
   "id": "bb53f3e6",
   "metadata": {
    "scrolled": true
   },
   "outputs": [],
   "source": [
    "lower_words=[Text.lower() for Text in no_stop_tokens]\n",
    "print(lower_words[100:200])"
   ]
  },
  {
   "cell_type": "markdown",
   "id": "433deb49",
   "metadata": {},
   "source": [
    "# Stemming"
   ]
  },
  {
   "cell_type": "code",
   "execution_count": null,
   "id": "4d205196",
   "metadata": {
    "scrolled": false
   },
   "outputs": [],
   "source": [
    "from nltk.stem import PorterStemmer\n",
    "ps=PorterStemmer()\n",
    "stemmed_tokens=[ps.stem(word) for word in lower_words]\n",
    "print(stemmed_tokens[100:200])"
   ]
  },
  {
   "cell_type": "code",
   "execution_count": null,
   "id": "d6b8e37f",
   "metadata": {
    "scrolled": false
   },
   "outputs": [],
   "source": [
    "nlp.max_length = 14167974123456789\n",
    "nlp=spacy.load('en_core_web_sm')\n",
    "doc=nlp(' '.join(lower_words))"
   ]
  },
  {
   "cell_type": "code",
   "execution_count": null,
   "id": "450b3bd7",
   "metadata": {},
   "outputs": [],
   "source": [
    "len(lower_words)"
   ]
  },
  {
   "cell_type": "code",
   "execution_count": null,
   "id": "337a1020",
   "metadata": {},
   "outputs": [],
   "source": [
    "lower_words"
   ]
  },
  {
   "cell_type": "markdown",
   "id": "aacd18b1",
   "metadata": {},
   "source": [
    "# Lemmatization"
   ]
  },
  {
   "cell_type": "code",
   "execution_count": null,
   "id": "a317cbba",
   "metadata": {
    "scrolled": true
   },
   "outputs": [],
   "source": [
    "lemmas=[token.lemma_ for token in lower_words]\n",
    "lemmas"
   ]
  },
  {
   "cell_type": "markdown",
   "id": "1a8dcfe0",
   "metadata": {},
   "source": [
    "# Feature extraction"
   ]
  },
  {
   "cell_type": "markdown",
   "id": "3fed7f93",
   "metadata": {},
   "source": [
    "# Count vectoriser"
   ]
  },
  {
   "cell_type": "code",
   "execution_count": null,
   "id": "f7faa1e1",
   "metadata": {},
   "outputs": [],
   "source": [
    "from sklearn.feature_extraction.text import CountVectorizer\n",
    "cv=CountVectorizer()\n",
    "Reviews_cv=cv.fit_transform(stemmed_tokens)"
   ]
  },
  {
   "cell_type": "code",
   "execution_count": null,
   "id": "5b2804cb",
   "metadata": {},
   "outputs": [],
   "source": [
    "print(cv.vocabulary_)"
   ]
  },
  {
   "cell_type": "code",
   "execution_count": null,
   "id": "0cb0f53b",
   "metadata": {},
   "outputs": [],
   "source": [
    "print(cv.get_feature_names()[100:200])"
   ]
  },
  {
   "cell_type": "code",
   "execution_count": null,
   "id": "b9a29a7e",
   "metadata": {},
   "outputs": [],
   "source": [
    "Reviews_cv"
   ]
  },
  {
   "cell_type": "code",
   "execution_count": null,
   "id": "c37ccc3c",
   "metadata": {},
   "outputs": [],
   "source": [
    "print(tweetscv.toarray()[100:200])"
   ]
  },
  {
   "cell_type": "code",
   "execution_count": null,
   "id": "e0759df8",
   "metadata": {},
   "outputs": [],
   "source": [
    "print(tweetscv.toarray().shape)"
   ]
  },
  {
   "cell_type": "code",
   "execution_count": null,
   "id": "0e9e5622",
   "metadata": {},
   "outputs": [],
   "source": [
    "def plot_cloud(wordcloud):\n",
    "    plt.figure(figsize=(40,30))\n",
    "    plt.imshow(wordcloud)\n",
    "    plt.axis('off')\n",
    "    \n",
    "# Generate Word Cloud\n",
    "\n",
    "STOPWORDS.add('pron')\n",
    "STOPWORDS.add('rt')\n",
    "STOPWORDS.add('yeah')\n",
    "wordcloud=WordCloud(width=3000,height=2000,background_color='white',max_words=50,\n",
    "                   colormap='Set1',stopwords=STOPWORDS).generate(doc)\n",
    "plot_cloud(wordcloud)"
   ]
  },
  {
   "cell_type": "code",
   "execution_count": null,
   "id": "33695a13",
   "metadata": {},
   "outputs": [],
   "source": [
    "doc=' '.join(stemmed_tokens)"
   ]
  },
  {
   "cell_type": "code",
   "execution_count": null,
   "id": "8063f799",
   "metadata": {},
   "outputs": [],
   "source": []
  }
 ],
 "metadata": {
  "kernelspec": {
   "display_name": "Python 3 (ipykernel)",
   "language": "python",
   "name": "python3"
  },
  "language_info": {
   "codemirror_mode": {
    "name": "ipython",
    "version": 3
   },
   "file_extension": ".py",
   "mimetype": "text/x-python",
   "name": "python",
   "nbconvert_exporter": "python",
   "pygments_lexer": "ipython3",
   "version": "3.9.12"
  }
 },
 "nbformat": 4,
 "nbformat_minor": 5
}
